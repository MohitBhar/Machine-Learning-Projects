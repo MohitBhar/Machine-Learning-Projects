{
 "cells": [
  {
   "cell_type": "code",
   "execution_count": 1,
   "metadata": {},
   "outputs": [],
   "source": [
    "import numpy as np"
   ]
  },
  {
   "cell_type": "code",
   "execution_count": 2,
   "metadata": {},
   "outputs": [],
   "source": [
    "def step_gradient(points,y_data,learning_rate,coef_array):\n",
    "    slope_array=[0]*(len(coef_array))\n",
    "    N=len(points)\n",
    "    new_slope_array=[0]*(len(coef_array))\n",
    "    \n",
    "    for i in range(N):\n",
    "        \n",
    "        n=points.shape[1]\n",
    "        s=0\n",
    "        for k in range(n):\n",
    "            s+=coef_array[k]*points[i,k]\n",
    "\n",
    "        y=y_data[i]\n",
    "        for j in range(n):\n",
    "\n",
    "            x=points[i,j]\n",
    "#             slope_array[j]=slope_array[j]+(((-2/N)*(y-coef_array[j]*x-coef_array[n-1]))*x)\n",
    "            slope_array[j]=slope_array[j]+(((-2/N)*(y-s)*x))\n",
    "        for j in range(n):\n",
    "            new_slope_array[j]=coef_array[j]-learning_rate*slope_array[j]\n",
    "#     n=points.shape[1]        \n",
    "    \n",
    "    return new_slope_array"
   ]
  },
  {
   "cell_type": "code",
   "execution_count": 88,
   "metadata": {},
   "outputs": [],
   "source": [
    "def gd(points,y_data,num_features,learning_rate,num_iterations):\n",
    "    coef_array=[0]*(num_features)\n",
    "    for i in range(num_iterations):\n",
    "        coef_array=step_gradient(points,y_data,learning_rate,coef_array)\n",
    "        print(i,cost(points,y_data,coef_array))\n",
    "        \n",
    "#     print(\"coef array\",coef_array)\n",
    "#     print(len(coef_array),\" ------------- array len\")\n",
    "    return coef_array"
   ]
  },
  {
   "cell_type": "code",
   "execution_count": 89,
   "metadata": {},
   "outputs": [],
   "source": [
    "def cost(points,y_data,coef_array):\n",
    "    total_cost=0\n",
    "    M=len(points)\n",
    "    for i in range(M):\n",
    "        n=points.shape[1]\n",
    "        y=y_data[i]\n",
    "        sum=0\n",
    "        for j in range(n):\n",
    "            x=points[i,j]\n",
    "            sum+=coef_array[j]*x\n",
    "        y=points[i,1]\n",
    "        total_cost+=(1/M)*((y-sum)**2)\n",
    "    return total_cost"
   ]
  },
  {
   "cell_type": "code",
   "execution_count": 90,
   "metadata": {},
   "outputs": [],
   "source": [
    "def predict(x_data,coef_array):\n",
    "\n",
    "    x_data=np.array(x_data)\n",
    "    coef_array=np.array(coef_array)\n",
    "    \n",
    "    for i in range(x_data.shape[0]):\n",
    "        x_data[i,:]=x_data[i,:]*coef_array\n",
    "    y_data=np.sum(x_data,axis=1) \n",
    "    return y_data\n",
    "    "
   ]
  },
  {
   "cell_type": "code",
   "execution_count": 91,
   "metadata": {},
   "outputs": [],
   "source": [
    "def score(y_truth,y_pred):\n",
    "    y_truth=np.array(y_truth)\n",
    "    y_pred=np.array(y_pred)\n",
    "    u=((y_truth-y_pred)**2).sum()\n",
    "    v=((y_truth-y_truth.mean())**2).sum()\n",
    "    return 1-u/v\n"
   ]
  },
  {
   "cell_type": "code",
   "execution_count": 103,
   "metadata": {},
   "outputs": [],
   "source": [
    "def get_x(x):\n",
    "    d=np.array(x)\n",
    "    for i in range(x.shape[1]):\n",
    "        for j in range(i,x.shape[1]):\n",
    "\n",
    "            new_column=x[:,i]*x[:,j]\n",
    "        #     c = [[1]]*a.shape[0]\n",
    "            c_=[]\n",
    "            for k in new_column:\n",
    "                c_=c_+[[k]]\n",
    "        #     print(c)\n",
    "#             print(c_)\n",
    "        #     print(new_column)\n",
    "            # c=[new_column]\n",
    "            d=np.append(d, c_, axis=1)\n",
    "    \n",
    "    e=np.array(x)\n",
    "    for k in range(x.shape[1]):\n",
    "        for i in range(k,x.shape[1]):\n",
    "            for j in range(i,x.shape[1]):\n",
    "\n",
    "                new_column=x[:,i]*x[:,j]\n",
    "                new_column=new_column*x[:,k]\n",
    "            #     c = [[1]]*a.shape[0]\n",
    "                c_=[]\n",
    "                for k in new_column:\n",
    "                    c_=c_+[[k]]\n",
    "            #     print(c)\n",
    "    #             print(c_)\n",
    "            #     print(new_column)\n",
    "                # c=[new_column]\n",
    "                e=np.append(d, c_, axis=1)\n",
    "    \n",
    "    x=np.append(d, e, axis=1)\n",
    "\n",
    "    \n",
    "    return x\n",
    "def get_x_adding_c(x):\n",
    "    new_column = [[1]]*x.shape[0]\n",
    "    c = [[1]]*x.shape[0]\n",
    "    \n",
    "#     print(x.shape,data.shape,len(new_column))\n",
    "    x = np.append(x, new_column, axis=1)\n",
    "    return x"
   ]
  },
  {
   "cell_type": "code",
   "execution_count": 104,
   "metadata": {},
   "outputs": [],
   "source": [
    "\n",
    "def run(scaler,x):\n",
    "    learning_rate=x\n",
    "    num_iterations=100\n",
    "    data=np.loadtxt(\"train.csv\",delimiter=\",\")\n",
    "#     y_train=np.loadtxt(\"Desktop/coding_ninjas/GradientDescentProject1/te.csv\",delimiter=\",\")\n",
    "    x=data[:,:data.shape[1]-1]\n",
    "    \n",
    "    x=get_x(x)\n",
    "    scaler.fit(x)\n",
    "    x=scaler.transform(x)\n",
    "    x=get_x_adding_c(x)\n",
    "    y=data[:,data.shape[1]-1]\n",
    "#     print(x[0,:])\n",
    "    coef_array=gd(x,y,x.shape[1],learning_rate,num_iterations)\n",
    "#     print(coef_array)\n",
    "    print(\"-----------\")\n",
    "#     print(predict(x,coef_array))\n",
    "    print(score(y,predict(x,coef_array)))\n",
    "    return coef_array"
   ]
  },
  {
   "cell_type": "code",
   "execution_count": 105,
   "metadata": {},
   "outputs": [
    {
     "ename": "IndexError",
     "evalue": "only integers, slices (`:`), ellipsis (`...`), numpy.newaxis (`None`) and integer or boolean arrays are valid indices",
     "output_type": "error",
     "traceback": [
      "\u001b[1;31m---------------------------------------------------------------------------\u001b[0m",
      "\u001b[1;31mIndexError\u001b[0m                                Traceback (most recent call last)",
      "\u001b[1;32m<ipython-input-105-19180eb1683e>\u001b[0m in \u001b[0;36m<module>\u001b[1;34m\u001b[0m\n\u001b[0;32m      3\u001b[0m \u001b[0mscaler\u001b[0m\u001b[1;33m=\u001b[0m\u001b[0mpreprocessing\u001b[0m\u001b[1;33m.\u001b[0m\u001b[0mStandardScaler\u001b[0m\u001b[1;33m(\u001b[0m\u001b[1;33m)\u001b[0m\u001b[1;33m\u001b[0m\u001b[1;33m\u001b[0m\u001b[0m\n\u001b[0;32m      4\u001b[0m \u001b[1;33m\u001b[0m\u001b[0m\n\u001b[1;32m----> 5\u001b[1;33m \u001b[0mcoef_array\u001b[0m\u001b[1;33m=\u001b[0m\u001b[0mrun\u001b[0m\u001b[1;33m(\u001b[0m\u001b[0mscaler\u001b[0m\u001b[1;33m,\u001b[0m\u001b[1;36m0.09\u001b[0m\u001b[1;33m)\u001b[0m\u001b[1;33m\u001b[0m\u001b[1;33m\u001b[0m\u001b[0m\n\u001b[0m",
      "\u001b[1;32m<ipython-input-104-45ceb83006a2>\u001b[0m in \u001b[0;36mrun\u001b[1;34m(scaler, x)\u001b[0m\n\u001b[0;32m      6\u001b[0m     \u001b[0mx\u001b[0m\u001b[1;33m=\u001b[0m\u001b[0mdata\u001b[0m\u001b[1;33m[\u001b[0m\u001b[1;33m:\u001b[0m\u001b[1;33m,\u001b[0m\u001b[1;33m:\u001b[0m\u001b[0mdata\u001b[0m\u001b[1;33m.\u001b[0m\u001b[0mshape\u001b[0m\u001b[1;33m[\u001b[0m\u001b[1;36m1\u001b[0m\u001b[1;33m]\u001b[0m\u001b[1;33m-\u001b[0m\u001b[1;36m1\u001b[0m\u001b[1;33m]\u001b[0m\u001b[1;33m\u001b[0m\u001b[1;33m\u001b[0m\u001b[0m\n\u001b[0;32m      7\u001b[0m \u001b[1;33m\u001b[0m\u001b[0m\n\u001b[1;32m----> 8\u001b[1;33m     \u001b[0mx\u001b[0m\u001b[1;33m=\u001b[0m\u001b[0mget_x\u001b[0m\u001b[1;33m(\u001b[0m\u001b[0mx\u001b[0m\u001b[1;33m)\u001b[0m\u001b[1;33m\u001b[0m\u001b[1;33m\u001b[0m\u001b[0m\n\u001b[0m\u001b[0;32m      9\u001b[0m     \u001b[0mscaler\u001b[0m\u001b[1;33m.\u001b[0m\u001b[0mfit\u001b[0m\u001b[1;33m(\u001b[0m\u001b[0mx\u001b[0m\u001b[1;33m)\u001b[0m\u001b[1;33m\u001b[0m\u001b[1;33m\u001b[0m\u001b[0m\n\u001b[0;32m     10\u001b[0m     \u001b[0mx\u001b[0m\u001b[1;33m=\u001b[0m\u001b[0mscaler\u001b[0m\u001b[1;33m.\u001b[0m\u001b[0mtransform\u001b[0m\u001b[1;33m(\u001b[0m\u001b[0mx\u001b[0m\u001b[1;33m)\u001b[0m\u001b[1;33m\u001b[0m\u001b[1;33m\u001b[0m\u001b[0m\n",
      "\u001b[1;32m<ipython-input-103-6407c3c09a0a>\u001b[0m in \u001b[0;36mget_x\u001b[1;34m(x)\u001b[0m\n\u001b[0;32m     21\u001b[0m \u001b[1;33m\u001b[0m\u001b[0m\n\u001b[0;32m     22\u001b[0m                 \u001b[0mnew_column\u001b[0m\u001b[1;33m=\u001b[0m\u001b[0mx\u001b[0m\u001b[1;33m[\u001b[0m\u001b[1;33m:\u001b[0m\u001b[1;33m,\u001b[0m\u001b[0mi\u001b[0m\u001b[1;33m]\u001b[0m\u001b[1;33m*\u001b[0m\u001b[0mx\u001b[0m\u001b[1;33m[\u001b[0m\u001b[1;33m:\u001b[0m\u001b[1;33m,\u001b[0m\u001b[0mj\u001b[0m\u001b[1;33m]\u001b[0m\u001b[1;33m\u001b[0m\u001b[1;33m\u001b[0m\u001b[0m\n\u001b[1;32m---> 23\u001b[1;33m                 \u001b[0mnew_column\u001b[0m\u001b[1;33m=\u001b[0m\u001b[0mnew_column\u001b[0m\u001b[1;33m*\u001b[0m\u001b[0mx\u001b[0m\u001b[1;33m[\u001b[0m\u001b[1;33m:\u001b[0m\u001b[1;33m,\u001b[0m\u001b[0mk\u001b[0m\u001b[1;33m]\u001b[0m\u001b[1;33m\u001b[0m\u001b[1;33m\u001b[0m\u001b[0m\n\u001b[0m\u001b[0;32m     24\u001b[0m             \u001b[1;31m#     c = [[1]]*a.shape[0]\u001b[0m\u001b[1;33m\u001b[0m\u001b[1;33m\u001b[0m\u001b[1;33m\u001b[0m\u001b[0m\n\u001b[0;32m     25\u001b[0m                 \u001b[0mc_\u001b[0m\u001b[1;33m=\u001b[0m\u001b[1;33m[\u001b[0m\u001b[1;33m]\u001b[0m\u001b[1;33m\u001b[0m\u001b[1;33m\u001b[0m\u001b[0m\n",
      "\u001b[1;31mIndexError\u001b[0m: only integers, slices (`:`), ellipsis (`...`), numpy.newaxis (`None`) and integer or boolean arrays are valid indices"
     ]
    }
   ],
   "source": [
    "from sklearn import preprocessing\n",
    "# x_scaled=preprocessing.scale(x)\n",
    "scaler=preprocessing.StandardScaler()\n",
    "\n",
    "coef_array=run(scaler,0.09)\n"
   ]
  },
  {
   "cell_type": "code",
   "execution_count": 83,
   "metadata": {},
   "outputs": [],
   "source": [
    "data=np.loadtxt(\"test.csv\",delimiter=\",\")\n",
    "x=data[:,:data.shape[1]]\n",
    "x=get_x(x)\n",
    "x=scaler.transform(x)\n",
    "x=get_x_adding_c(x)\n",
    "# new_column = [[1]]*data.shape[0]\n",
    "# x = np.append(x, new_column, axis=1)\n",
    "Y_pred=predict(x,coef_array)"
   ]
  },
  {
   "cell_type": "code",
   "execution_count": 84,
   "metadata": {},
   "outputs": [],
   "source": [
    "y1=np.around(Y_pred,5)"
   ]
  },
  {
   "cell_type": "code",
   "execution_count": 85,
   "metadata": {},
   "outputs": [],
   "source": [
    "np.savetxt(\"test_Result.csv\",y1,delimiter=\",\")"
   ]
  }
 ],
 "metadata": {
  "kernelspec": {
   "display_name": "Python 3",
   "language": "python",
   "name": "python3"
  },
  "language_info": {
   "codemirror_mode": {
    "name": "ipython",
    "version": 3
   },
   "file_extension": ".py",
   "mimetype": "text/x-python",
   "name": "python",
   "nbconvert_exporter": "python",
   "pygments_lexer": "ipython3",
   "version": "3.8.3"
  }
 },
 "nbformat": 4,
 "nbformat_minor": 4
}
