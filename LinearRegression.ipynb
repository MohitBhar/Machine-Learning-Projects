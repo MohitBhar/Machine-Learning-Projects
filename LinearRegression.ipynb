{
 "cells": [
  {
   "cell_type": "code",
   "execution_count": 48,
   "metadata": {},
   "outputs": [],
   "source": [
    "import numpy as np\n",
    "data=np.loadtxt(\"Desktop/coding_ninjas/train.csv\",delimiter=\",\")\n"
   ]
  },
  {
   "cell_type": "code",
   "execution_count": 23,
   "metadata": {},
   "outputs": [
    {
     "data": {
      "text/plain": [
       "(331, 11)"
      ]
     },
     "execution_count": 23,
     "metadata": {},
     "output_type": "execute_result"
    }
   ],
   "source": [
    "data.shape"
   ]
  },
  {
   "cell_type": "code",
   "execution_count": 24,
   "metadata": {},
   "outputs": [],
   "source": [
    "x=data[:,:10]"
   ]
  },
  {
   "cell_type": "code",
   "execution_count": 25,
   "metadata": {},
   "outputs": [
    {
     "data": {
      "text/plain": [
       "(331, 10)"
      ]
     },
     "execution_count": 25,
     "metadata": {},
     "output_type": "execute_result"
    }
   ],
   "source": [
    "x.shape"
   ]
  },
  {
   "cell_type": "code",
   "execution_count": 26,
   "metadata": {},
   "outputs": [
    {
     "data": {
      "text/plain": [
       "array([[-4.91050164e-02, -4.46416365e-02,  1.60854917e-01, ...,\n",
       "         2.80165065e-02,  1.13486232e-02,  3.46000000e+02],\n",
       "       [-7.09002471e-02,  5.06801187e-02, -8.91974838e-02, ...,\n",
       "        -1.29079423e-02, -5.49250874e-02,  1.04000000e+02],\n",
       "       [ 1.75052192e-03, -4.46416365e-02, -7.08746786e-02, ...,\n",
       "        -2.25121719e-02,  7.20651633e-03,  4.90000000e+01],\n",
       "       ...,\n",
       "       [ 2.35457526e-02, -4.46416365e-02,  7.03187031e-02, ...,\n",
       "        -1.91970476e-02, -9.36191133e-03,  2.88000000e+02],\n",
       "       [ 1.62806757e-02,  5.06801187e-02,  7.24743273e-02, ...,\n",
       "        -2.36445576e-02,  6.10539062e-02,  1.31000000e+02],\n",
       "       [-9.14709343e-03,  5.06801187e-02, -3.09956318e-02, ...,\n",
       "         6.20931562e-03,  2.79170509e-02,  4.20000000e+01]])"
      ]
     },
     "execution_count": 26,
     "metadata": {},
     "output_type": "execute_result"
    }
   ],
   "source": [
    "data"
   ]
  },
  {
   "cell_type": "code",
   "execution_count": 49,
   "metadata": {},
   "outputs": [],
   "source": [
    "y=data[:,10]\n"
   ]
  },
  {
   "cell_type": "code",
   "execution_count": 51,
   "metadata": {},
   "outputs": [
    {
     "data": {
      "text/plain": [
       "LinearRegression()"
      ]
     },
     "execution_count": 51,
     "metadata": {},
     "output_type": "execute_result"
    }
   ],
   "source": [
    "from sklearn.linear_model import LinearRegression\n",
    "algorithm=LinearRegression()\n",
    "algorithm.fit(x,y)"
   ]
  },
  {
   "cell_type": "code",
   "execution_count": 52,
   "metadata": {},
   "outputs": [],
   "source": [
    "data1=np.loadtxt(\"Desktop/coding_ninjas/test.csv\",delimiter=\",\")\n",
    "Y_pred=algorithm.predict(data1)"
   ]
  },
  {
   "cell_type": "code",
   "execution_count": 53,
   "metadata": {},
   "outputs": [],
   "source": [
    "y1=np.around(Y_pred,5)"
   ]
  },
  {
   "cell_type": "code",
   "execution_count": 55,
   "metadata": {},
   "outputs": [],
   "source": [
    "np.savetxt(\"Desktop/coding_ninjas/test_Result.csv\",y1,delimiter=\",\")"
   ]
  },
  {
   "cell_type": "code",
   "execution_count": null,
   "metadata": {},
   "outputs": [],
   "source": []
  },
  {
   "cell_type": "code",
   "execution_count": null,
   "metadata": {},
   "outputs": [],
   "source": []
  }
 ],
 "metadata": {
  "kernelspec": {
   "display_name": "Python 3",
   "language": "python",
   "name": "python3"
  },
  "language_info": {
   "codemirror_mode": {
    "name": "ipython",
    "version": 3
   },
   "file_extension": ".py",
   "mimetype": "text/x-python",
   "name": "python",
   "nbconvert_exporter": "python",
   "pygments_lexer": "ipython3",
   "version": "3.8.3"
  }
 },
 "nbformat": 4,
 "nbformat_minor": 4
}
